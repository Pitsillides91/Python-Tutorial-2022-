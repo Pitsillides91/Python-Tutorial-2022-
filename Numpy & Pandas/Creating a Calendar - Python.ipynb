{
 "cells": [
  {
   "cell_type": "markdown",
   "id": "178fcf34",
   "metadata": {},
   "source": [
    "# Creating a Calendar"
   ]
  },
  {
   "cell_type": "code",
   "execution_count": null,
   "id": "37ab5a23",
   "metadata": {},
   "outputs": [],
   "source": [
    "# function to create calendar\n",
    "def create_date_table2(start='2019-01-01', end='2050-12-31'):\n",
    "    \n",
    "    df = pd.DataFrame({\"Date\": pd.date_range(start, end)})\n",
    "    df[\"Day\"] = df.Date.dt.day_name()\n",
    "    df[\"Week\"] = df.Date.dt.weekofyear\n",
    "    df['Month'] = pd.DatetimeIndex(df['Date']).month\n",
    "    df[\"Quarter\"] = df.Date.dt.quarter\n",
    "    df[\"Year\"] = df.Date.dt.year\n",
    "    df[\"Year_half\"] = (df.Quarter + 1) // 2\n",
    "    df['Week Number'] = df['Date'].dt.week\n",
    "    df['Year_Week'] = df['Year'].astype(str) + np.where(df['Week Number'].astype(str).str.len() < 2, '0' + df['Week Number'].astype(str), df['Week Number'].astype(str))\n",
    "    df['Year_Week sting'] = df['Year'].astype(str) + '-' + np.where(df['Week Number'].astype(str).str.len() < 2, '0' + df['Week Number'].astype(str), df['Week Number'].astype(str))\n",
    "    df['Year_Month'] = df['Year'].astype(str) + np.where(df['Month'].astype(str).str.len() < 2, '0' + df['Month'].astype(str), df['Month'].astype(str))\n",
    "    df['Year_Month string'] = df['Year'].astype(str) + '-' + np.where(df['Month'].astype(str).str.len() < 2, '0' + df['Month'].astype(str), df['Month'].astype(str))\n",
    "\n",
    "    # Creating a Week ID table\n",
    "    week_id_table = df[['Year_Week']].drop_duplicates()\n",
    "    week_id_table['Week_id'] = range(0, len(week_id_table.Year_Week))\n",
    "    week_id_table['Week_id LY'] = week_id_table['Week_id'] + 52\n",
    "\n",
    "    #Left joining the Month_id\n",
    "    df = df.merge(week_id_table, how = 'left', on = 'Year_Week')\n",
    "\n",
    "    # Creating a Month ID table\n",
    "    month_id_table = df[['Year_Month']].drop_duplicates()\n",
    "    month_id_table['Month_id'] = range(0, len(month_id_table.Year_Month))\n",
    "    month_id_table['Month_id LY'] = month_id_table['Month_id'] + 12\n",
    "\n",
    "    #Left joining the Month_id\n",
    "    df = df.merge(month_id_table, how = 'left', on = 'Year_Month')\n",
    "  \n",
    "  return df\n",
    "\n",
    "# calling the calendar\n",
    "calendar = create_date_table2('2016-01-01', '2030-12-31')\n",
    "\n",
    "calendar.head(5)"
   ]
  },
  {
   "cell_type": "code",
   "execution_count": null,
   "id": "faaf8551",
   "metadata": {},
   "outputs": [],
   "source": [
    "# Joining the data with the calendar\n",
    "joined_table = old_table.merge(calendar[['Date', 'Week Number','Month','Year','Year_Week','Year_Week sting','Year_Month','Year_Month string','Week_id', 'Week_id LY', 'Month_id', 'Month_id LY']], how = 'left', on = 'Date')\n",
    "\n",
    "print(old_table.shape)\n",
    "print(joined_table.shape)\n",
    "joined_table.head()"
   ]
  }
 ],
 "metadata": {
  "kernelspec": {
   "display_name": "Python 3 (ipykernel)",
   "language": "python",
   "name": "python3"
  },
  "language_info": {
   "codemirror_mode": {
    "name": "ipython",
    "version": 3
   },
   "file_extension": ".py",
   "mimetype": "text/x-python",
   "name": "python",
   "nbconvert_exporter": "python",
   "pygments_lexer": "ipython3",
   "version": "3.9.7"
  }
 },
 "nbformat": 4,
 "nbformat_minor": 5
}
